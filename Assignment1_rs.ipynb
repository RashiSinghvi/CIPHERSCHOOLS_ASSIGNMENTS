{
 "cells": [
  {
   "cell_type": "code",
   "execution_count": 1,
   "metadata": {},
   "outputs": [
    {
     "name": "stdout",
     "output_type": "stream",
     "text": [
      "Enter Size of list: 8\n",
      "Enter Element: 1\n",
      "Enter Element: 2\n",
      "Enter Element: 3\n",
      "Enter Element: 4\n",
      "Enter Element: 1\n",
      "Enter Element: 2\n",
      "Enter Element: 7\n",
      "Enter Element: 6\n",
      "Your List--> [1, 2, 3, 4, 1, 2, 7, 6]\n",
      "New List remove Duplicate elements--> [1, 2, 3, 4, 6, 7]\n"
     ]
    }
   ],
   "source": [
    "####Assignment que1#####\n",
    "l=[]\n",
    "n=int(input(\"Enter Size of list: \"))\n",
    "for i in range(n):\n",
    "    i=int(input(\"Enter Element: \"))\n",
    "    l.append(i)\n",
    "print(\"Your List-->\",l)\n",
    "l=list(set(l))\n",
    "l.sort()\n",
    "print(\"New List remove Duplicate elements-->\",l)"
   ]
  },
  {
   "cell_type": "code",
   "execution_count": 17,
   "metadata": {
    "scrolled": true
   },
   "outputs": [
    {
     "name": "stdout",
     "output_type": "stream",
     "text": [
      "Enter Size of tuple: 5\n",
      "Enter Element: 1\n",
      "Enter Element: 8\n",
      "Enter Element: 4\n",
      "Enter Element: 9\n",
      "Enter Element: 13\n",
      "Length of Tuple 5\n",
      "Sum of elements:  35\n",
      "Maximum Value in tuple:  13\n",
      "Minimum Value in tuple:  1\n"
     ]
    }
   ],
   "source": [
    "######Assignment que2#####\n",
    "l1=[]\n",
    "si=int(input(\"Enter Size of tuple: \"))\n",
    "for j in range(si):\n",
    "    j=int(input(\"Enter Element: \"))\n",
    "    l1.append(j)\n",
    "t=tuple(l1)\n",
    "print(\"Length of Tuple\",len(t))\n",
    "su=0\n",
    "for i in t:\n",
    "    su=su+i\n",
    "#print(\"Sum of Elements: \",sum(list(t))\n",
    "print(\"Sum of elements: \",su)\n",
    "print(\"Maximum Value in tuple: \",max(t))\n",
    "print(\"Minimum Value in tuple: \",min(t))"
   ]
  },
  {
   "cell_type": "code",
   "execution_count": 19,
   "metadata": {},
   "outputs": [
    {
     "name": "stdout",
     "output_type": "stream",
     "text": [
      "Enter Number: 13\n",
      "Enter ith bit: 1\n",
      "15\n"
     ]
    }
   ],
   "source": [
    "#####Assignment que3######\n",
    "num=int(input(\"Enter Number: \"))\n",
    "ith=int(input(\"Enter ith bit: \"))\n",
    "mask=1<<ith\n",
    "op=num+mask\n",
    "print(op)"
   ]
  },
  {
   "cell_type": "code",
   "execution_count": 11,
   "metadata": {},
   "outputs": [
    {
     "name": "stdout",
     "output_type": "stream",
     "text": [
      "Enter NUmber: 34\n",
      "1\n"
     ]
    }
   ],
   "source": [
    "#######Assignment que4######\n",
    "inp=int(input(\"Enter NUmber: \"))\n",
    "ans=1 if inp%2==0 else 0\n",
    "print(ans)"
   ]
  },
  {
   "cell_type": "code",
   "execution_count": 12,
   "metadata": {},
   "outputs": [
    {
     "name": "stdout",
     "output_type": "stream",
     "text": [
      "[1, 1, 2, 3, 3, 4, 5, 6, 7, 8, 9]\n"
     ]
    }
   ],
   "source": [
    "#####Assignment que5#######\n",
    "d=[1,2,3,4,5,6]\n",
    "d1=[7,8,9,1,3]\n",
    "for i in d1:\n",
    "    d.append(i)\n",
    "d.sort()\n",
    "print(d)"
   ]
  },
  {
   "cell_type": "code",
   "execution_count": 18,
   "metadata": {},
   "outputs": [
    {
     "name": "stdout",
     "output_type": "stream",
     "text": [
      "Enter Size of dictinary: 4\n",
      "Enter name: berlin\n",
      "Enter Marks: 70\n",
      "Enter name: oslo\n",
      "Enter Marks: 0\n",
      "Enter name: moscow\n",
      "Enter Marks: 50\n",
      "Enter name: nairobi\n",
      "Enter Marks: 100\n",
      "{'berlin': 70, 'oslo': 0, 'moscow': 50, 'nairobi': 100}\n",
      "{'oslo': 0, 'moscow': 50, 'berlin': 70, 'nairobi': 100}\n"
     ]
    }
   ],
   "source": [
    "########Assignment que6######\n",
    "a={}\n",
    "import operator as op\n",
    "b=int(input(\"Enter Size of dictinary: \"))\n",
    "for i in range(b):\n",
    "    name=input(\"Enter name: \")\n",
    "    marks=int(input(\"Enter Marks: \"))\n",
    "    a[name]=marks\n",
    "print(a)\n",
    "new_a=dict(sorted(a.items(),key=op.itemgetter(1)))\n",
    "print(new_a)"
   ]
  },
  {
   "cell_type": "code",
   "execution_count": null,
   "metadata": {},
   "outputs": [],
   "source": []
  },
  {
   "cell_type": "code",
   "execution_count": null,
   "metadata": {},
   "outputs": [],
   "source": []
  }
 ],
 "metadata": {
  "kernelspec": {
   "display_name": "Python 3",
   "language": "python",
   "name": "python3"
  },
  "language_info": {
   "codemirror_mode": {
    "name": "ipython",
    "version": 3
   },
   "file_extension": ".py",
   "mimetype": "text/x-python",
   "name": "python",
   "nbconvert_exporter": "python",
   "pygments_lexer": "ipython3",
   "version": "3.7.6"
  }
 },
 "nbformat": 4,
 "nbformat_minor": 4
}
